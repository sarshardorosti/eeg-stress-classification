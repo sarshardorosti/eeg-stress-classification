{
 "cells": [
  {
   "cell_type": "code",
   "execution_count": 1,
   "metadata": {},
   "outputs": [
    {
     "ename": "ModuleNotFoundError",
     "evalue": "No module named 'torch'",
     "output_type": "error",
     "traceback": [
      "\u001b[1;31m---------------------------------------------------------------------------\u001b[0m",
      "\u001b[1;31mModuleNotFoundError\u001b[0m                       Traceback (most recent call last)",
      "Cell \u001b[1;32mIn[1], line 2\u001b[0m\n\u001b[0;32m      1\u001b[0m \u001b[38;5;28;01mimport\u001b[39;00m \u001b[38;5;21;01munittest\u001b[39;00m\n\u001b[1;32m----> 2\u001b[0m \u001b[38;5;28;01mimport\u001b[39;00m \u001b[38;5;21;01mtorch\u001b[39;00m\n\u001b[0;32m      3\u001b[0m \u001b[38;5;28;01mimport\u001b[39;00m \u001b[38;5;21;01mnumpy\u001b[39;00m \u001b[38;5;28;01mas\u001b[39;00m \u001b[38;5;21;01mnp\u001b[39;00m\n\u001b[0;32m      4\u001b[0m \u001b[38;5;28;01mfrom\u001b[39;00m \u001b[38;5;21;01mclassification\u001b[39;00m \u001b[38;5;28;01mimport\u001b[39;00m load_dataset, load_labels, format_labels, split_data, SimpleNN, train_one_epoch, validate, evaluate_model, EEGDataset\n",
      "\u001b[1;31mModuleNotFoundError\u001b[0m: No module named 'torch'"
     ]
    }
   ],
   "source": [
    "import unittest\n",
    "import torch\n",
    "import numpy as np\n",
    "from classification import load_dataset, load_labels, format_labels, split_data, SimpleNN, train_one_epoch, validate, evaluate_model, EEGDataset\n",
    "\n",
    "class TestEEGAnalysis(unittest.TestCase):\n",
    "\n",
    "    def setUp(self):\n",
    "        self.data_type = \"ica_filtered\"\n",
    "        self.test_type = \"Arithmetic\"\n",
    "        self.input_size = 102400  # Assuming this is the correct input size\n",
    "        self.output_size = 2  # Assuming binary classification\n",
    "        self.num_layers = 2\n",
    "        self.num_neurons = [512, 1024]\n",
    "        self.dropout_rate = 0.2\n",
    "        self.mock_data = np.random.rand(10, 32, 102400)  # Mock EEG data\n",
    "        self.mock_labels = np.random.randint(0, 2, 10)  # Mock labels\n",
    "\n",
    "    def test_data_loading(self):\n",
    "        dataset = load_dataset(self.data_type, self.test_type)\n",
    "        labels = load_labels()\n",
    "        self.assertIsNotNone(dataset)\n",
    "        self.assertIsNotNone(labels)\n",
    "\n",
    "    def test_model_initialization(self):\n",
    "        model = SimpleNN(self.input_size, self.output_size, self.num_layers, self.num_neurons, self.dropout_rate)\n",
    "        self.assertIsInstance(model, SimpleNN)\n",
    "\n",
    "    def test_data_processing(self):\n",
    "        labels = load_labels()\n",
    "        formatted_labels = format_labels(labels, self.test_type)\n",
    "        self.assertIsNotNone(formatted_labels)\n",
    "        epoched_data = split_data(self.mock_data)\n",
    "        self.assertIsNotNone(epoched_data)\n",
    "\n",
    "    def test_training_functions(self):\n",
    "        # Mock dataset\n",
    "        dataset = EEGDataset(self.mock_data, self.mock_labels)\n",
    "        dataloader = torch.utils.data.DataLoader(dataset, batch_size=2, shuffle=True)\n",
    "        \n",
    "        # Model initialization\n",
    "        model = SimpleNN(self.input_size, self.output_size, self.num_layers, self.num_neurons, self.dropout_rate)\n",
    "        \n",
    "        # Loss function and optimizer\n",
    "        criterion = torch.nn.CrossEntropyLoss()\n",
    "        optimizer = torch.optim.Adam(model.parameters(), lr=0.001)\n",
    "\n",
    "        # Test train_one_epoch\n",
    "        train_loss = train_one_epoch(dataloader, model, criterion, optimizer)\n",
    "        self.assertIsNotNone(train_loss)\n",
    "        self.assertIsInstance(train_loss, float)\n",
    "\n",
    "        # Test validate\n",
    "        val_loss = validate(dataloader, model, criterion)\n",
    "        self.assertIsNotNone(val_loss)\n",
    "        self.assertIsInstance(val_loss, float)\n",
    "\n",
    "    def test_model_evaluation(self):\n",
    "        # Mock dataset\n",
    "        dataset = EEGDataset(self.mock_data, self.mock_labels)\n",
    "        dataloader = torch.utils.data.DataLoader(dataset, batch_size=2, shuffle=False)\n",
    "\n",
    "        # Model initialization\n",
    "        model = SimpleNN(self.input_size, self.output_size, self.num_layers, self.num_neurons, self.dropout_rate)\n",
    "        \n",
    "        # Test evaluate_model\n",
    "        accuracy = evaluate_model(model, dataloader)\n",
    "        self.assertIsNotNone(accuracy)\n",
    "        self.assertIsInstance(accuracy, float)\n",
    "\n",
    "if __name__ == \"__main__\":\n",
    "    unittest.main()\n"
   ]
  }
 ],
 "metadata": {
  "kernelspec": {
   "display_name": "eeg-stress-detection",
   "language": "python",
   "name": "python3"
  },
  "language_info": {
   "codemirror_mode": {
    "name": "ipython",
    "version": 3
   },
   "file_extension": ".py",
   "mimetype": "text/x-python",
   "name": "python",
   "nbconvert_exporter": "python",
   "pygments_lexer": "ipython3",
   "version": "3.9.18"
  }
 },
 "nbformat": 4,
 "nbformat_minor": 2
}
